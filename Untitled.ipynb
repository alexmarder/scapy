{
 "cells": [
  {
   "cell_type": "code",
   "execution_count": 7,
   "metadata": {},
   "outputs": [],
   "source": [
    "from scapy.all import *\n",
    "import binascii"
   ]
  },
  {
   "cell_type": "code",
   "execution_count": 2,
   "metadata": {},
   "outputs": [
    {
     "data": {
      "text/plain": [
       "<Ether  type=IPv4 |<IP  frag=0 proto=icmp dst=192.172.226.78 |<ICMP  |>>>"
      ]
     },
     "execution_count": 2,
     "metadata": {},
     "output_type": "execute_result"
    }
   ],
   "source": [
    "p = Ether()/IP(dst='192.172.226.78')/ICMP()\n",
    "p"
   ]
  },
  {
   "cell_type": "code",
   "execution_count": 4,
   "metadata": {},
   "outputs": [
    {
     "name": "stderr",
     "output_type": "stream",
     "text": [
      "Exception ignored in: <function _L2bpfSocket.__del__ at 0x110dd5200>\n",
      "Traceback (most recent call last):\n",
      "  File \"/Users/amarder/PycharmProjects/scapy/scapy/arch/bpf/supersocket.py\", line 136, in __del__\n",
      "    self.close()\n",
      "  File \"/Users/amarder/PycharmProjects/scapy/scapy/arch/bpf/supersocket.py\", line 208, in close\n",
      "    if not self.closed and self.ins is not None:\n",
      "AttributeError: 'L2bpfSocket' object has no attribute 'ins'\n"
     ]
    },
    {
     "data": {
      "text/plain": [
       "b'\\xff\\xff\\xff\\xff\\xff\\xff\\x00\\xe0L\\xa1F\\xd3\\x08\\x00E\\x00\\x00\\x1c\\x00\\x01\\x00\\x00@\\x014\\xa1\\xc0\\xac\\xe2\\x97\\xc0\\xac\\xe2N\\x08\\x00\\xf7\\xff\\x00\\x00\\x00\\x00'"
      ]
     },
     "execution_count": 4,
     "metadata": {},
     "output_type": "execute_result"
    }
   ],
   "source": [
    "b = bytes(p)\n",
    "b"
   ]
  },
  {
   "cell_type": "code",
   "execution_count": 5,
   "metadata": {},
   "outputs": [
    {
     "data": {
      "text/plain": [
       "b'\\xff\\xff\\xff\\xff\\xff\\xff\\x00\\xe0'"
      ]
     },
     "execution_count": 5,
     "metadata": {},
     "output_type": "execute_result"
    }
   ],
   "source": [
    "b[:8]"
   ]
  },
  {
   "cell_type": "code",
   "execution_count": 10,
   "metadata": {},
   "outputs": [
    {
     "data": {
      "text/plain": [
       "str"
      ]
     },
     "execution_count": 10,
     "metadata": {},
     "output_type": "execute_result"
    }
   ],
   "source": [
    "type(p[Ether].src)"
   ]
  },
  {
   "cell_type": "code",
   "execution_count": 12,
   "metadata": {},
   "outputs": [
    {
     "name": "stderr",
     "output_type": "stream",
     "text": [
      "Exception ignored in: <function _L2bpfSocket.__del__ at 0x110dd5200>\n",
      "Traceback (most recent call last):\n",
      "  File \"/Users/amarder/PycharmProjects/scapy/scapy/arch/bpf/supersocket.py\", line 136, in __del__\n",
      "    self.close()\n",
      "  File \"/Users/amarder/PycharmProjects/scapy/scapy/arch/bpf/supersocket.py\", line 208, in close\n",
      "    if not self.closed and self.ins is not None:\n",
      "AttributeError: 'L2bpfSocket' object has no attribute 'ins'\n"
     ]
    },
    {
     "data": {
      "text/plain": [
       "b'\\xff\\xff\\xff\\xff\\xff\\xff'"
      ]
     },
     "execution_count": 12,
     "metadata": {},
     "output_type": "execute_result"
    }
   ],
   "source": [
    "macbytes = binascii.unhexlify(p[Ether].dst.encode().replace(b':', b''))\n",
    "macbytes"
   ]
  },
  {
   "cell_type": "code",
   "execution_count": 13,
   "metadata": {},
   "outputs": [
    {
     "data": {
      "text/plain": [
       "('en7', '192.172.226.151', '0.0.0.0')"
      ]
     },
     "execution_count": 13,
     "metadata": {},
     "output_type": "execute_result"
    }
   ],
   "source": [
    "conf.route.route('192.172.226.78')"
   ]
  },
  {
   "cell_type": "code",
   "execution_count": 15,
   "metadata": {},
   "outputs": [
    {
     "data": {
      "text/plain": [
       "'ff:ff:ff:ff:ff:ff'"
      ]
     },
     "execution_count": 15,
     "metadata": {},
     "output_type": "execute_result"
    }
   ],
   "source": [
    "getmacbyip('0.0.0.0')"
   ]
  },
  {
   "cell_type": "code",
   "execution_count": null,
   "metadata": {},
   "outputs": [],
   "source": []
  }
 ],
 "metadata": {
  "kernelspec": {
   "display_name": "Python [conda env:packets] *",
   "language": "python",
   "name": "conda-env-packets-py"
  },
  "language_info": {
   "codemirror_mode": {
    "name": "ipython",
    "version": 3
   },
   "file_extension": ".py",
   "mimetype": "text/x-python",
   "name": "python",
   "nbconvert_exporter": "python",
   "pygments_lexer": "ipython3",
   "version": "3.7.6"
  }
 },
 "nbformat": 4,
 "nbformat_minor": 4
}
